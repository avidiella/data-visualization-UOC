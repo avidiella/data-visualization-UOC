{
 "cells": [
  {
   "cell_type": "markdown",
   "id": "400cd8fe-0b40-4d8c-a906-dfae7c92a4a2",
   "metadata": {},
   "source": [
    "# Visualizing Spatial Distribution of Temperature Through Contour Plot\n",
    "\n",
    "The aim of this project is to generate a data visualization using a contour plot. The dataset [`GlobalLandTemperaturesByCity.csv`](https://www.kaggle.com/datasets/berkeleyearth/climate-change-earth-surface-temperature-data/data) will be utilized to visualize temperature variations based on latitude and longitude.\n",
    "\n",
    "## Loading libraries and data"
   ]
  },
  {
   "cell_type": "code",
   "execution_count": 1,
   "id": "acb09506-f334-4c56-9b3b-9c44726b1e61",
   "metadata": {},
   "outputs": [
    {
     "data": {
      "text/html": [
       "<div>\n",
       "<style scoped>\n",
       "    .dataframe tbody tr th:only-of-type {\n",
       "        vertical-align: middle;\n",
       "    }\n",
       "\n",
       "    .dataframe tbody tr th {\n",
       "        vertical-align: top;\n",
       "    }\n",
       "\n",
       "    .dataframe thead th {\n",
       "        text-align: right;\n",
       "    }\n",
       "</style>\n",
       "<table border=\"1\" class=\"dataframe\">\n",
       "  <thead>\n",
       "    <tr style=\"text-align: right;\">\n",
       "      <th></th>\n",
       "      <th>dt</th>\n",
       "      <th>AverageTemperature</th>\n",
       "      <th>AverageTemperatureUncertainty</th>\n",
       "      <th>City</th>\n",
       "      <th>Country</th>\n",
       "      <th>Latitude</th>\n",
       "      <th>Longitude</th>\n",
       "    </tr>\n",
       "  </thead>\n",
       "  <tbody>\n",
       "    <tr>\n",
       "      <th>0</th>\n",
       "      <td>1743-11-01</td>\n",
       "      <td>6.068</td>\n",
       "      <td>1.737</td>\n",
       "      <td>Århus</td>\n",
       "      <td>Denmark</td>\n",
       "      <td>57.05N</td>\n",
       "      <td>10.33E</td>\n",
       "    </tr>\n",
       "    <tr>\n",
       "      <th>1</th>\n",
       "      <td>1743-12-01</td>\n",
       "      <td>NaN</td>\n",
       "      <td>NaN</td>\n",
       "      <td>Århus</td>\n",
       "      <td>Denmark</td>\n",
       "      <td>57.05N</td>\n",
       "      <td>10.33E</td>\n",
       "    </tr>\n",
       "    <tr>\n",
       "      <th>2</th>\n",
       "      <td>1744-01-01</td>\n",
       "      <td>NaN</td>\n",
       "      <td>NaN</td>\n",
       "      <td>Århus</td>\n",
       "      <td>Denmark</td>\n",
       "      <td>57.05N</td>\n",
       "      <td>10.33E</td>\n",
       "    </tr>\n",
       "    <tr>\n",
       "      <th>3</th>\n",
       "      <td>1744-02-01</td>\n",
       "      <td>NaN</td>\n",
       "      <td>NaN</td>\n",
       "      <td>Århus</td>\n",
       "      <td>Denmark</td>\n",
       "      <td>57.05N</td>\n",
       "      <td>10.33E</td>\n",
       "    </tr>\n",
       "    <tr>\n",
       "      <th>4</th>\n",
       "      <td>1744-03-01</td>\n",
       "      <td>NaN</td>\n",
       "      <td>NaN</td>\n",
       "      <td>Århus</td>\n",
       "      <td>Denmark</td>\n",
       "      <td>57.05N</td>\n",
       "      <td>10.33E</td>\n",
       "    </tr>\n",
       "  </tbody>\n",
       "</table>\n",
       "</div>"
      ],
      "text/plain": [
       "           dt  AverageTemperature  AverageTemperatureUncertainty   City  \\\n",
       "0  1743-11-01               6.068                          1.737  Århus   \n",
       "1  1743-12-01                 NaN                            NaN  Århus   \n",
       "2  1744-01-01                 NaN                            NaN  Århus   \n",
       "3  1744-02-01                 NaN                            NaN  Århus   \n",
       "4  1744-03-01                 NaN                            NaN  Århus   \n",
       "\n",
       "   Country Latitude Longitude  \n",
       "0  Denmark   57.05N    10.33E  \n",
       "1  Denmark   57.05N    10.33E  \n",
       "2  Denmark   57.05N    10.33E  \n",
       "3  Denmark   57.05N    10.33E  \n",
       "4  Denmark   57.05N    10.33E  "
      ]
     },
     "execution_count": 1,
     "metadata": {},
     "output_type": "execute_result"
    }
   ],
   "source": [
    "import pandas as pd\n",
    "import numpy as np\n",
    "from scipy.interpolate import griddata\n",
    "import plotly.graph_objects as go\n",
    "\n",
    "df = pd.read_csv(\"GlobalLandTemperaturesByCity.csv\", sep=\",\")\n",
    "df.head()"
   ]
  },
  {
   "cell_type": "markdown",
   "id": "41f7aae2-cc0d-4b55-b22e-942754d55be2",
   "metadata": {},
   "source": [
    "## Data cleaning"
   ]
  },
  {
   "cell_type": "code",
   "execution_count": 2,
   "id": "8f133a89-195b-4912-b346-4caa85d318c9",
   "metadata": {},
   "outputs": [
    {
     "data": {
      "text/html": [
       "<div>\n",
       "<style scoped>\n",
       "    .dataframe tbody tr th:only-of-type {\n",
       "        vertical-align: middle;\n",
       "    }\n",
       "\n",
       "    .dataframe tbody tr th {\n",
       "        vertical-align: top;\n",
       "    }\n",
       "\n",
       "    .dataframe thead th {\n",
       "        text-align: right;\n",
       "    }\n",
       "</style>\n",
       "<table border=\"1\" class=\"dataframe\">\n",
       "  <thead>\n",
       "    <tr style=\"text-align: right;\">\n",
       "      <th></th>\n",
       "      <th>AverageTemperature</th>\n",
       "      <th>Latitude</th>\n",
       "      <th>Longitude</th>\n",
       "    </tr>\n",
       "  </thead>\n",
       "  <tbody>\n",
       "    <tr>\n",
       "      <th>0</th>\n",
       "      <td>6.068</td>\n",
       "      <td>57.05</td>\n",
       "      <td>10.33</td>\n",
       "    </tr>\n",
       "    <tr>\n",
       "      <th>5</th>\n",
       "      <td>5.788</td>\n",
       "      <td>57.05</td>\n",
       "      <td>10.33</td>\n",
       "    </tr>\n",
       "    <tr>\n",
       "      <th>6</th>\n",
       "      <td>10.644</td>\n",
       "      <td>57.05</td>\n",
       "      <td>10.33</td>\n",
       "    </tr>\n",
       "    <tr>\n",
       "      <th>7</th>\n",
       "      <td>14.051</td>\n",
       "      <td>57.05</td>\n",
       "      <td>10.33</td>\n",
       "    </tr>\n",
       "    <tr>\n",
       "      <th>8</th>\n",
       "      <td>16.082</td>\n",
       "      <td>57.05</td>\n",
       "      <td>10.33</td>\n",
       "    </tr>\n",
       "  </tbody>\n",
       "</table>\n",
       "</div>"
      ],
      "text/plain": [
       "   AverageTemperature  Latitude  Longitude\n",
       "0               6.068     57.05      10.33\n",
       "5               5.788     57.05      10.33\n",
       "6              10.644     57.05      10.33\n",
       "7              14.051     57.05      10.33\n",
       "8              16.082     57.05      10.33"
      ]
     },
     "execution_count": 2,
     "metadata": {},
     "output_type": "execute_result"
    }
   ],
   "source": [
    "# Dropping columns with NaN\n",
    "df.dropna(axis=0, inplace=True)\n",
    "\n",
    "# Converting variables to float\n",
    "df[\"Latitude\"] = df[\"Latitude\"].str.replace(r\"[^\\d.]\", \"\", regex=True).astype(float).round(2)\n",
    "df[\"Longitude\"] = df[\"Longitude\"].str.replace(r\"[^\\d.]\", \"\", regex=True).astype(float).round(2)\n",
    "\n",
    "# Selecting variables to plot\n",
    "data = df[[\"AverageTemperature\", \"Latitude\", \"Longitude\"]]\n",
    "data.head()"
   ]
  },
  {
   "cell_type": "markdown",
   "id": "58f9fc3e-5563-490c-bcc6-4fc5881480aa",
   "metadata": {},
   "source": [
    "## Data preparation"
   ]
  },
  {
   "cell_type": "code",
   "execution_count": 3,
   "id": "4c6623d7-18fb-41fb-996d-7c010a3593d0",
   "metadata": {},
   "outputs": [],
   "source": [
    "# Preparing vectors\n",
    "x = np.array(data[\"Longitude\"])\n",
    "y = np.array(data[\"Latitude\"])\n",
    "z = np.array(data[\"AverageTemperature\"])\n",
    "\n",
    "# Creating a matrix\n",
    "arr = np.column_stack((x, y, z))\n",
    "\n",
    "# Interpolation\n",
    "xv = np.linspace(min(arr[:, 0]), max(arr[:, 0]), 20)\n",
    "yv = np.linspace(min(arr[:, 1]), max(arr[:, 1]), 20)\n",
    "X, Y = np.meshgrid(xv, yv)\n",
    "Z = griddata((arr[:, 0], arr[:, 1]), arr[:, 2], (X, Y), method=\"linear\")"
   ]
  },
  {
   "cell_type": "markdown",
   "id": "1fde6856-9782-4892-9dcd-f875325a0266",
   "metadata": {},
   "source": [
    "## Data visualization"
   ]
  },
  {
   "cell_type": "code",
   "execution_count": 5,
   "id": "de67d90f-85af-4bab-b693-d93ab11b4817",
   "metadata": {},
   "outputs": [
    {
     "data": {
      "application/vnd.plotly.v1+json": {
       "config": {
        "plotlyServerURL": "https://plot.ly"
       },
       "data": [
        {
         "autocontour": true,
         "colorbar": {
          "len": 0.8,
          "thickness": 35,
          "title": {
           "font": {
            "size": 12
           },
           "text": "Temperature (ºC)"
          }
         },
         "colorscale": [
          [
           0,
           "rgb(94,79,162)"
          ],
          [
           0.1,
           "rgb(50,136,189)"
          ],
          [
           0.2,
           "rgb(102,194,165)"
          ],
          [
           0.3,
           "rgb(171,221,164)"
          ],
          [
           0.4,
           "rgb(230,245,152)"
          ],
          [
           0.5,
           "rgb(255,255,191)"
          ],
          [
           0.6,
           "rgb(254,224,139)"
          ],
          [
           0.7,
           "rgb(253,174,97)"
          ],
          [
           0.8,
           "rgb(244,109,67)"
          ],
          [
           0.9,
           "rgb(213,62,79)"
          ],
          [
           1,
           "rgb(158,1,66)"
          ]
         ],
         "connectgaps": true,
         "contours": {
          "end": 30,
          "size": 5,
          "start": -20
         },
         "line": {
          "smoothing": 1,
          "width": 0.25
         },
         "type": "contour",
         "x": [
          0,
          9.313157894736841,
          18.626315789473683,
          27.939473684210526,
          37.252631578947366,
          46.565789473684205,
          55.87894736842105,
          65.19210526315788,
          74.50526315789473,
          83.81842105263158,
          93.13157894736841,
          102.44473684210526,
          111.7578947368421,
          121.07105263157894,
          130.38421052631577,
          139.69736842105263,
          149.01052631578946,
          158.3236842105263,
          167.63684210526316,
          176.95
         ],
         "y": [
          0.8,
          4.437894736842106,
          8.07578947368421,
          11.713684210526317,
          15.351578947368422,
          18.989473684210527,
          22.627368421052633,
          26.265263157894736,
          29.903157894736843,
          33.54105263157894,
          37.17894736842105,
          40.816842105263156,
          44.45473684210526,
          48.09263157894737,
          51.73052631578947,
          55.368421052631575,
          59.00631578947368,
          62.64421052631579,
          66.28210526315789,
          69.92
         ],
         "z": [
          [
           null,
           25.866432354225815,
           24.83730506671032,
           22.545859794715003,
           19.66464890487086,
           25.462718934265123,
           23.940005683131698,
           20.492569160823003,
           17.045132638514296,
           22.30665995470792,
           23.419507489563724,
           25.949445154943426,
           25.653376688221332,
           25.969494279176207,
           26.138369568781766,
           null,
           null,
           null,
           null,
           null
          ],
          [
           null,
           24.62476125230711,
           25.359826315789476,
           21.529358399141948,
           24.54375271624916,
           25.445165133330224,
           25.973538112255945,
           26.80018303480271,
           19.926928619144405,
           21.36728256678706,
           24.39331244153807,
           25.536366674856193,
           25.610036110114102,
           27.045743197068987,
           25.66731438156864,
           null,
           null,
           null,
           null,
           null
          ],
          [
           25.414586961017473,
           27.237790145653992,
           24.358770536153468,
           25.41472167126593,
           19.221128618648088,
           23.87661297889934,
           25.743233981147878,
           26.580662687931692,
           26.25749477855749,
           25.643786496557105,
           25.906651262784738,
           26.48018521554839,
           26.004690106909784,
           26.332733124949907,
           25.007395380611015,
           25.84946743693779,
           null,
           null,
           null,
           null
          ],
          [
           23.373244390445663,
           25.80745160060976,
           23.327261425216946,
           17.15219433007784,
           24.652342103770735,
           25.487362797731414,
           25.612099801251503,
           23.370435331347714,
           15.940230298152343,
           26.151409719627413,
           27.871054134142277,
           25.74628025533122,
           24.95172419773005,
           24.97333954882061,
           24.738493412054552,
           25.4092881446523,
           25.577664379529036,
           null,
           null,
           null
          ],
          [
           21.33190181987385,
           26.79695121132437,
           26.36843398835875,
           21.60220577440861,
           22.88215327568547,
           24.36221465872978,
           25.485610650777293,
           21.848770841316664,
           27.911806396639196,
           27.90022250085737,
           24.050985819424035,
           28.121724590293088,
           23.46587887027092,
           26.594374132681907,
           23.008542742849865,
           25.181394194932636,
           25.315247763922464,
           null,
           null,
           null
          ],
          [
           19.290559249302035,
           21.126940376806118,
           19.529811904342797,
           18.559874804946215,
           25.647037702953035,
           20.127699089940837,
           24.145322695205437,
           23.421863472208734,
           25.35551914301393,
           26.594515241667324,
           25.09851697097129,
           19.821679255346602,
           19.55177443451787,
           23.7711499497393,
           19.715753472256623,
           22.015643305533338,
           25.821435957626576,
           null,
           null,
           null
          ],
          [
           17.249216678730225,
           17.026528540460443,
           16.692853262187725,
           20.62486046590119,
           23.163188415007568,
           22.534613140037827,
           26.725300356949173,
           15.284414420354397,
           22.994053799363957,
           30.75506200220333,
           24.421166545556474,
           15.292150564901853,
           23.038134563115875,
           16.891397344292404,
           16.422964201663376,
           18.72285403494009,
           24.963145363825745,
           22.46840260667934,
           null,
           null
          ],
          [
           15.207874108158414,
           15.791078163650957,
           15.97794634440407,
           16.813963701852398,
           15.540707484627358,
           18.289419773596,
           24.40429646835714,
           14.291003396917773,
           22.071980851220218,
           28.8074283887092,
           22.433348520666076,
           22.881276837694827,
           7.881673143274862,
           14.420887647662056,
           13.13017493107013,
           16.70465201965452,
           21.549138153525313,
           22.160893517868132,
           null,
           null
          ],
          [
           13.1665315375866,
           14.70364015159786,
           18.161794281777524,
           18.6291020235752,
           14.405499370966176,
           15.862541392601436,
           18.870303160368593,
           9.849321211968808,
           24.69283822327557,
           20.437501413275168,
           8.931964013166812,
           19.536272067811304,
           21.487917340943408,
           4.0359958739386625,
           10.857207458173994,
           12.582160042567402,
           18.13513094322488,
           21.84815357769105,
           19.666649922640847,
           null
          ],
          [
           11.125188967014791,
           17.272662010059815,
           12.922613888465763,
           14.280007631312865,
           19.923076001039394,
           5.757228583067097,
           18.49514949860749,
           10.248614948479808,
           21.468599956072318,
           13.71201888569945,
           10.572995335281922,
           21.23774226871526,
           10.613890214105428,
           3.4649158262200723,
           10.50493925058487,
           8.459668065480296,
           12.192653000967582,
           20.038810837323382,
           19.29722967773632,
           null
          ],
          [
           17.430174893756092,
           17.05992159529218,
           17.571805488775386,
           12.913714946375215,
           19.34834781159371,
           -3.2863806106174307,
           5.532666084251083,
           8.00841721894847,
           16.388725865210226,
           12.616123835779284,
           15.726487797906136,
           2.8643402303713845,
           4.109050566661337,
           6.351853806179571,
           1.104563832899761,
           8.151602808155545,
           17.714930106756093,
           14.389996552342952,
           15.14765993315158,
           null
          ],
          [
           18.528542334096095,
           16.920456602314104,
           21.540193704501704,
           5.295904599220052,
           7.5850473673467125,
           -2.8284933122040066,
           7.449557284274226,
           4.8730803473456525,
           20.46459502068294,
           17.241559501939168,
           12.938543591065777,
           0.04971971193282809,
           -9.451016748853117,
           10.640167487960035,
           9.17094475753478,
           4.457950113021862,
           16.79738674763675,
           11.266015078657107,
           9.19159812449072,
           null
          ],
          [
           12.505421597471942,
           11.496403339968753,
           13.953831456688143,
           12.315862548451905,
           8.314870588210736,
           -1.2793601855167267,
           8.70226132546064,
           9.373952641374245,
           4.95463304401198,
           20.842554896558166,
           4.43609934589171,
           -3.0545564444424365,
           -3.1029745093964594,
           9.156428792613777,
           16.990148558994612,
           -0.8995233182313429,
           13.275550049935015,
           9.075635054069217,
           3.302534310173767,
           null
          ],
          [
           10.32645069194726,
           4.038925205142743,
           13.386131227904652,
           12.576821775823769,
           8.185605871590067,
           6.038191444579548,
           18.471943744273638,
           -14.161579265845962,
           4.589725153550347,
           14.173683691588923,
           -12.229450161481317,
           -8.130399043213899,
           -1.4213265967476878,
           6.802331328555193,
           -8.20632130604501,
           7.447871609927492,
           5.9029908908892175,
           8.676616006266588,
           null,
           null
          ],
          [
           7.893981144449915,
           14.299568125968737,
           15.8016883894312,
           6.0267335469605054,
           2.4955835091117247,
           6.34930977340248,
           16.575348729480062,
           8.756611064261795,
           4.477347796291903,
           -3.4513495789057766,
           -23.671277700541353,
           -15.477348560079449,
           3.6113610703777628,
           -6.580801592443719,
           -24.0329728030728,
           11.74873837830026,
           -2.5582101139532787,
           8.277596958463961,
           null,
           null
          ],
          [
           null,
           7.819107884737001,
           6.725496599535062,
           13.82949598812812,
           -9.564744659029648,
           -0.4111272201921035,
           -1.181662401509926,
           -13.510980693013675,
           -15.719037339396156,
           12.655884439359212,
           -3.1474816230008607,
           -10.706922757132883,
           9.395516832707505,
           3.6908225575224725,
           -10.658613878838274,
           -14.166934900446321,
           -11.019411118795793,
           -1.6686818870191482,
           null,
           null
          ],
          [
           null,
           2.524001562905478,
           5.861287707997855,
           5.061126493770656,
           14.038864394187057,
           8.105028082749971,
           4.527405665588271,
           -16.78781396844449,
           -22.09034076825226,
           -3.1857678524807254,
           11.783943711661244,
           11.13469349650964,
           6.11051977549665,
           1.083149930655015,
           -3.94421991418662,
           -11.105215575980806,
           -13.347105960250325,
           null,
           null,
           null
          ],
          [
           null,
           1.5750145394302335,
           2.670943116783399,
           4.964585447472,
           1.9405908335935893,
           11.322010829062712,
           -11.439208044941306,
           -17.0363645703569,
           -19.658181151691355,
           -5.015409013991894,
           10.697432395942634,
           7.809263842190911,
           2.7886150955243063,
           -2.2320336511422925,
           -7.25268239780889,
           -12.273331144475506,
           null,
           null,
           null,
           null
          ],
          [
           null,
           null,
           null,
           -1.0908193649351132,
           -3.147189613555061,
           -7.245766123111056,
           -4.874879207171238,
           -2.503992291231425,
           -3.5637587901949628,
           -4.363316406967602,
           9.504482934538796,
           4.483834187872189,
           -0.5368145587944166,
           null,
           null,
           null,
           null,
           null,
           null,
           null
          ],
          [
           null,
           null,
           null,
           null,
           null,
           null,
           null,
           null,
           null,
           null,
           null,
           null,
           null,
           null,
           null,
           null,
           null,
           null,
           null,
           null
          ]
         ]
        }
       ],
       "layout": {
        "autosize": false,
        "height": 500,
        "template": {
         "data": {
          "bar": [
           {
            "error_x": {
             "color": "#2a3f5f"
            },
            "error_y": {
             "color": "#2a3f5f"
            },
            "marker": {
             "line": {
              "color": "#E5ECF6",
              "width": 0.5
             },
             "pattern": {
              "fillmode": "overlay",
              "size": 10,
              "solidity": 0.2
             }
            },
            "type": "bar"
           }
          ],
          "barpolar": [
           {
            "marker": {
             "line": {
              "color": "#E5ECF6",
              "width": 0.5
             },
             "pattern": {
              "fillmode": "overlay",
              "size": 10,
              "solidity": 0.2
             }
            },
            "type": "barpolar"
           }
          ],
          "carpet": [
           {
            "aaxis": {
             "endlinecolor": "#2a3f5f",
             "gridcolor": "white",
             "linecolor": "white",
             "minorgridcolor": "white",
             "startlinecolor": "#2a3f5f"
            },
            "baxis": {
             "endlinecolor": "#2a3f5f",
             "gridcolor": "white",
             "linecolor": "white",
             "minorgridcolor": "white",
             "startlinecolor": "#2a3f5f"
            },
            "type": "carpet"
           }
          ],
          "choropleth": [
           {
            "colorbar": {
             "outlinewidth": 0,
             "ticks": ""
            },
            "type": "choropleth"
           }
          ],
          "contour": [
           {
            "colorbar": {
             "outlinewidth": 0,
             "ticks": ""
            },
            "colorscale": [
             [
              0,
              "#0d0887"
             ],
             [
              0.1111111111111111,
              "#46039f"
             ],
             [
              0.2222222222222222,
              "#7201a8"
             ],
             [
              0.3333333333333333,
              "#9c179e"
             ],
             [
              0.4444444444444444,
              "#bd3786"
             ],
             [
              0.5555555555555556,
              "#d8576b"
             ],
             [
              0.6666666666666666,
              "#ed7953"
             ],
             [
              0.7777777777777778,
              "#fb9f3a"
             ],
             [
              0.8888888888888888,
              "#fdca26"
             ],
             [
              1,
              "#f0f921"
             ]
            ],
            "type": "contour"
           }
          ],
          "contourcarpet": [
           {
            "colorbar": {
             "outlinewidth": 0,
             "ticks": ""
            },
            "type": "contourcarpet"
           }
          ],
          "heatmap": [
           {
            "colorbar": {
             "outlinewidth": 0,
             "ticks": ""
            },
            "colorscale": [
             [
              0,
              "#0d0887"
             ],
             [
              0.1111111111111111,
              "#46039f"
             ],
             [
              0.2222222222222222,
              "#7201a8"
             ],
             [
              0.3333333333333333,
              "#9c179e"
             ],
             [
              0.4444444444444444,
              "#bd3786"
             ],
             [
              0.5555555555555556,
              "#d8576b"
             ],
             [
              0.6666666666666666,
              "#ed7953"
             ],
             [
              0.7777777777777778,
              "#fb9f3a"
             ],
             [
              0.8888888888888888,
              "#fdca26"
             ],
             [
              1,
              "#f0f921"
             ]
            ],
            "type": "heatmap"
           }
          ],
          "heatmapgl": [
           {
            "colorbar": {
             "outlinewidth": 0,
             "ticks": ""
            },
            "colorscale": [
             [
              0,
              "#0d0887"
             ],
             [
              0.1111111111111111,
              "#46039f"
             ],
             [
              0.2222222222222222,
              "#7201a8"
             ],
             [
              0.3333333333333333,
              "#9c179e"
             ],
             [
              0.4444444444444444,
              "#bd3786"
             ],
             [
              0.5555555555555556,
              "#d8576b"
             ],
             [
              0.6666666666666666,
              "#ed7953"
             ],
             [
              0.7777777777777778,
              "#fb9f3a"
             ],
             [
              0.8888888888888888,
              "#fdca26"
             ],
             [
              1,
              "#f0f921"
             ]
            ],
            "type": "heatmapgl"
           }
          ],
          "histogram": [
           {
            "marker": {
             "pattern": {
              "fillmode": "overlay",
              "size": 10,
              "solidity": 0.2
             }
            },
            "type": "histogram"
           }
          ],
          "histogram2d": [
           {
            "colorbar": {
             "outlinewidth": 0,
             "ticks": ""
            },
            "colorscale": [
             [
              0,
              "#0d0887"
             ],
             [
              0.1111111111111111,
              "#46039f"
             ],
             [
              0.2222222222222222,
              "#7201a8"
             ],
             [
              0.3333333333333333,
              "#9c179e"
             ],
             [
              0.4444444444444444,
              "#bd3786"
             ],
             [
              0.5555555555555556,
              "#d8576b"
             ],
             [
              0.6666666666666666,
              "#ed7953"
             ],
             [
              0.7777777777777778,
              "#fb9f3a"
             ],
             [
              0.8888888888888888,
              "#fdca26"
             ],
             [
              1,
              "#f0f921"
             ]
            ],
            "type": "histogram2d"
           }
          ],
          "histogram2dcontour": [
           {
            "colorbar": {
             "outlinewidth": 0,
             "ticks": ""
            },
            "colorscale": [
             [
              0,
              "#0d0887"
             ],
             [
              0.1111111111111111,
              "#46039f"
             ],
             [
              0.2222222222222222,
              "#7201a8"
             ],
             [
              0.3333333333333333,
              "#9c179e"
             ],
             [
              0.4444444444444444,
              "#bd3786"
             ],
             [
              0.5555555555555556,
              "#d8576b"
             ],
             [
              0.6666666666666666,
              "#ed7953"
             ],
             [
              0.7777777777777778,
              "#fb9f3a"
             ],
             [
              0.8888888888888888,
              "#fdca26"
             ],
             [
              1,
              "#f0f921"
             ]
            ],
            "type": "histogram2dcontour"
           }
          ],
          "mesh3d": [
           {
            "colorbar": {
             "outlinewidth": 0,
             "ticks": ""
            },
            "type": "mesh3d"
           }
          ],
          "parcoords": [
           {
            "line": {
             "colorbar": {
              "outlinewidth": 0,
              "ticks": ""
             }
            },
            "type": "parcoords"
           }
          ],
          "pie": [
           {
            "automargin": true,
            "type": "pie"
           }
          ],
          "scatter": [
           {
            "fillpattern": {
             "fillmode": "overlay",
             "size": 10,
             "solidity": 0.2
            },
            "type": "scatter"
           }
          ],
          "scatter3d": [
           {
            "line": {
             "colorbar": {
              "outlinewidth": 0,
              "ticks": ""
             }
            },
            "marker": {
             "colorbar": {
              "outlinewidth": 0,
              "ticks": ""
             }
            },
            "type": "scatter3d"
           }
          ],
          "scattercarpet": [
           {
            "marker": {
             "colorbar": {
              "outlinewidth": 0,
              "ticks": ""
             }
            },
            "type": "scattercarpet"
           }
          ],
          "scattergeo": [
           {
            "marker": {
             "colorbar": {
              "outlinewidth": 0,
              "ticks": ""
             }
            },
            "type": "scattergeo"
           }
          ],
          "scattergl": [
           {
            "marker": {
             "colorbar": {
              "outlinewidth": 0,
              "ticks": ""
             }
            },
            "type": "scattergl"
           }
          ],
          "scattermapbox": [
           {
            "marker": {
             "colorbar": {
              "outlinewidth": 0,
              "ticks": ""
             }
            },
            "type": "scattermapbox"
           }
          ],
          "scatterpolar": [
           {
            "marker": {
             "colorbar": {
              "outlinewidth": 0,
              "ticks": ""
             }
            },
            "type": "scatterpolar"
           }
          ],
          "scatterpolargl": [
           {
            "marker": {
             "colorbar": {
              "outlinewidth": 0,
              "ticks": ""
             }
            },
            "type": "scatterpolargl"
           }
          ],
          "scatterternary": [
           {
            "marker": {
             "colorbar": {
              "outlinewidth": 0,
              "ticks": ""
             }
            },
            "type": "scatterternary"
           }
          ],
          "surface": [
           {
            "colorbar": {
             "outlinewidth": 0,
             "ticks": ""
            },
            "colorscale": [
             [
              0,
              "#0d0887"
             ],
             [
              0.1111111111111111,
              "#46039f"
             ],
             [
              0.2222222222222222,
              "#7201a8"
             ],
             [
              0.3333333333333333,
              "#9c179e"
             ],
             [
              0.4444444444444444,
              "#bd3786"
             ],
             [
              0.5555555555555556,
              "#d8576b"
             ],
             [
              0.6666666666666666,
              "#ed7953"
             ],
             [
              0.7777777777777778,
              "#fb9f3a"
             ],
             [
              0.8888888888888888,
              "#fdca26"
             ],
             [
              1,
              "#f0f921"
             ]
            ],
            "type": "surface"
           }
          ],
          "table": [
           {
            "cells": {
             "fill": {
              "color": "#EBF0F8"
             },
             "line": {
              "color": "white"
             }
            },
            "header": {
             "fill": {
              "color": "#C8D4E3"
             },
             "line": {
              "color": "white"
             }
            },
            "type": "table"
           }
          ]
         },
         "layout": {
          "annotationdefaults": {
           "arrowcolor": "#2a3f5f",
           "arrowhead": 0,
           "arrowwidth": 1
          },
          "autotypenumbers": "strict",
          "coloraxis": {
           "colorbar": {
            "outlinewidth": 0,
            "ticks": ""
           }
          },
          "colorscale": {
           "diverging": [
            [
             0,
             "#8e0152"
            ],
            [
             0.1,
             "#c51b7d"
            ],
            [
             0.2,
             "#de77ae"
            ],
            [
             0.3,
             "#f1b6da"
            ],
            [
             0.4,
             "#fde0ef"
            ],
            [
             0.5,
             "#f7f7f7"
            ],
            [
             0.6,
             "#e6f5d0"
            ],
            [
             0.7,
             "#b8e186"
            ],
            [
             0.8,
             "#7fbc41"
            ],
            [
             0.9,
             "#4d9221"
            ],
            [
             1,
             "#276419"
            ]
           ],
           "sequential": [
            [
             0,
             "#0d0887"
            ],
            [
             0.1111111111111111,
             "#46039f"
            ],
            [
             0.2222222222222222,
             "#7201a8"
            ],
            [
             0.3333333333333333,
             "#9c179e"
            ],
            [
             0.4444444444444444,
             "#bd3786"
            ],
            [
             0.5555555555555556,
             "#d8576b"
            ],
            [
             0.6666666666666666,
             "#ed7953"
            ],
            [
             0.7777777777777778,
             "#fb9f3a"
            ],
            [
             0.8888888888888888,
             "#fdca26"
            ],
            [
             1,
             "#f0f921"
            ]
           ],
           "sequentialminus": [
            [
             0,
             "#0d0887"
            ],
            [
             0.1111111111111111,
             "#46039f"
            ],
            [
             0.2222222222222222,
             "#7201a8"
            ],
            [
             0.3333333333333333,
             "#9c179e"
            ],
            [
             0.4444444444444444,
             "#bd3786"
            ],
            [
             0.5555555555555556,
             "#d8576b"
            ],
            [
             0.6666666666666666,
             "#ed7953"
            ],
            [
             0.7777777777777778,
             "#fb9f3a"
            ],
            [
             0.8888888888888888,
             "#fdca26"
            ],
            [
             1,
             "#f0f921"
            ]
           ]
          },
          "colorway": [
           "#636efa",
           "#EF553B",
           "#00cc96",
           "#ab63fa",
           "#FFA15A",
           "#19d3f3",
           "#FF6692",
           "#B6E880",
           "#FF97FF",
           "#FECB52"
          ],
          "font": {
           "color": "#2a3f5f"
          },
          "geo": {
           "bgcolor": "white",
           "lakecolor": "white",
           "landcolor": "#E5ECF6",
           "showlakes": true,
           "showland": true,
           "subunitcolor": "white"
          },
          "hoverlabel": {
           "align": "left"
          },
          "hovermode": "closest",
          "mapbox": {
           "style": "light"
          },
          "paper_bgcolor": "white",
          "plot_bgcolor": "#E5ECF6",
          "polar": {
           "angularaxis": {
            "gridcolor": "white",
            "linecolor": "white",
            "ticks": ""
           },
           "bgcolor": "#E5ECF6",
           "radialaxis": {
            "gridcolor": "white",
            "linecolor": "white",
            "ticks": ""
           }
          },
          "scene": {
           "xaxis": {
            "backgroundcolor": "#E5ECF6",
            "gridcolor": "white",
            "gridwidth": 2,
            "linecolor": "white",
            "showbackground": true,
            "ticks": "",
            "zerolinecolor": "white"
           },
           "yaxis": {
            "backgroundcolor": "#E5ECF6",
            "gridcolor": "white",
            "gridwidth": 2,
            "linecolor": "white",
            "showbackground": true,
            "ticks": "",
            "zerolinecolor": "white"
           },
           "zaxis": {
            "backgroundcolor": "#E5ECF6",
            "gridcolor": "white",
            "gridwidth": 2,
            "linecolor": "white",
            "showbackground": true,
            "ticks": "",
            "zerolinecolor": "white"
           }
          },
          "shapedefaults": {
           "line": {
            "color": "#2a3f5f"
           }
          },
          "ternary": {
           "aaxis": {
            "gridcolor": "white",
            "linecolor": "white",
            "ticks": ""
           },
           "baxis": {
            "gridcolor": "white",
            "linecolor": "white",
            "ticks": ""
           },
           "bgcolor": "#E5ECF6",
           "caxis": {
            "gridcolor": "white",
            "linecolor": "white",
            "ticks": ""
           }
          },
          "title": {
           "x": 0.05
          },
          "xaxis": {
           "automargin": true,
           "gridcolor": "white",
           "linecolor": "white",
           "ticks": "",
           "title": {
            "standoff": 15
           },
           "zerolinecolor": "white",
           "zerolinewidth": 2
          },
          "yaxis": {
           "automargin": true,
           "gridcolor": "white",
           "linecolor": "white",
           "ticks": "",
           "title": {
            "standoff": 15
           },
           "zerolinecolor": "white",
           "zerolinewidth": 2
          }
         }
        },
        "title": {
         "text": "Average Temperature by Latitude and Longitude"
        },
        "width": 800,
        "xaxis": {
         "autorange": true,
         "range": [
          0,
          176.95
         ],
         "title": {
          "text": "Longitude"
         },
         "type": "linear"
        },
        "yaxis": {
         "autorange": true,
         "range": [
          0.8,
          69.92
         ],
         "title": {
          "text": "Latitude"
         },
         "type": "linear"
        }
       }
      },
      "image/png": "[encoded data removed]",
      "text/html": [
       "<div>                            <div id=\"dbd505ec-d460-4351-8086-4caa2aa6bf9a\" class=\"plotly-graph-div\" style=\"height:500px; width:800px;\"></div>            <script type=\"text/javascript\">                require([\"plotly\"], function(Plotly) {                    window.PLOTLYENV=window.PLOTLYENV || {};                                    if (document.getElementById(\"dbd505ec-d460-4351-8086-4caa2aa6bf9a\")) {                    Plotly.newPlot(                        \"dbd505ec-d460-4351-8086-4caa2aa6bf9a\",                        [{\"colorbar\":{\"len\":0.8,\"thickness\":35,\"title\":{\"font\":{\"size\":12},\"text\":\"Temperature (\\u00baC)\"}},\"colorscale\":[[0.0,\"rgb(94,79,162)\"],[0.1,\"rgb(50,136,189)\"],[0.2,\"rgb(102,194,165)\"],[0.3,\"rgb(171,221,164)\"],[0.4,\"rgb(230,245,152)\"],[0.5,\"rgb(255,255,191)\"],[0.6,\"rgb(254,224,139)\"],[0.7,\"rgb(253,174,97)\"],[0.8,\"rgb(244,109,67)\"],[0.9,\"rgb(213,62,79)\"],[1.0,\"rgb(158,1,66)\"]],\"connectgaps\":true,\"line\":{\"smoothing\":1,\"width\":0.25},\"x\":[0.0,9.313157894736841,18.626315789473683,27.939473684210526,37.252631578947366,46.565789473684205,55.87894736842105,65.19210526315788,74.50526315789473,83.81842105263158,93.13157894736841,102.44473684210526,111.7578947368421,121.07105263157894,130.38421052631577,139.69736842105263,149.01052631578946,158.3236842105263,167.63684210526316,176.95],\"y\":[0.8,4.437894736842106,8.07578947368421,11.713684210526317,15.351578947368422,18.989473684210527,22.627368421052633,26.265263157894736,29.903157894736843,33.54105263157894,37.17894736842105,40.816842105263156,44.45473684210526,48.09263157894737,51.73052631578947,55.368421052631575,59.00631578947368,62.64421052631579,66.28210526315789,69.92],\"z\":[[null,25.866432354225815,24.83730506671032,22.545859794715003,19.66464890487086,25.462718934265123,23.940005683131698,20.492569160823003,17.045132638514296,22.30665995470792,23.419507489563724,25.949445154943426,25.653376688221332,25.969494279176207,26.138369568781766,null,null,null,null,null],[null,24.62476125230711,25.359826315789476,21.529358399141948,24.54375271624916,25.445165133330224,25.973538112255945,26.80018303480271,19.926928619144405,21.36728256678706,24.39331244153807,25.536366674856193,25.610036110114102,27.045743197068987,25.66731438156864,null,null,null,null,null],[25.414586961017473,27.237790145653992,24.358770536153468,25.41472167126593,19.221128618648088,23.87661297889934,25.743233981147878,26.580662687931692,26.25749477855749,25.643786496557105,25.906651262784738,26.48018521554839,26.004690106909784,26.332733124949907,25.007395380611015,25.84946743693779,null,null,null,null],[23.373244390445663,25.80745160060976,23.327261425216946,17.15219433007784,24.652342103770735,25.487362797731414,25.612099801251503,23.370435331347714,15.940230298152343,26.151409719627413,27.871054134142277,25.74628025533122,24.95172419773005,24.97333954882061,24.738493412054552,25.4092881446523,25.577664379529036,null,null,null],[21.33190181987385,26.79695121132437,26.36843398835875,21.60220577440861,22.88215327568547,24.36221465872978,25.485610650777293,21.848770841316664,27.911806396639196,27.90022250085737,24.050985819424035,28.121724590293088,23.46587887027092,26.594374132681907,23.008542742849865,25.181394194932636,25.315247763922464,null,null,null],[19.290559249302035,21.126940376806118,19.529811904342797,18.559874804946215,25.647037702953035,20.127699089940837,24.145322695205437,23.421863472208734,25.35551914301393,26.594515241667324,25.09851697097129,19.821679255346602,19.55177443451787,23.7711499497393,19.715753472256623,22.015643305533338,25.821435957626576,null,null,null],[17.249216678730225,17.026528540460443,16.692853262187725,20.62486046590119,23.163188415007568,22.534613140037827,26.725300356949173,15.284414420354397,22.994053799363957,30.75506200220333,24.421166545556474,15.292150564901853,23.038134563115875,16.891397344292404,16.422964201663376,18.72285403494009,24.963145363825745,22.46840260667934,null,null],[15.207874108158414,15.791078163650957,15.97794634440407,16.813963701852398,15.540707484627358,18.289419773596,24.40429646835714,14.291003396917773,22.071980851220218,28.8074283887092,22.433348520666076,22.881276837694827,7.881673143274862,14.420887647662056,13.13017493107013,16.70465201965452,21.549138153525313,22.160893517868132,null,null],[13.1665315375866,14.70364015159786,18.161794281777524,18.6291020235752,14.405499370966176,15.862541392601436,18.870303160368593,9.849321211968808,24.69283822327557,20.437501413275168,8.931964013166812,19.536272067811304,21.487917340943408,4.0359958739386625,10.857207458173994,12.582160042567402,18.13513094322488,21.84815357769105,19.666649922640847,null],[11.125188967014791,17.272662010059815,12.922613888465763,14.280007631312865,19.923076001039394,5.757228583067097,18.49514949860749,10.248614948479808,21.468599956072318,13.71201888569945,10.572995335281922,21.23774226871526,10.613890214105428,3.4649158262200723,10.50493925058487,8.459668065480296,12.192653000967582,20.038810837323382,19.29722967773632,null],[17.430174893756092,17.05992159529218,17.571805488775386,12.913714946375215,19.34834781159371,-3.2863806106174307,5.532666084251083,8.00841721894847,16.388725865210226,12.616123835779284,15.726487797906136,2.8643402303713845,4.109050566661337,6.351853806179571,1.104563832899761,8.151602808155545,17.714930106756093,14.389996552342952,15.14765993315158,null],[18.528542334096095,16.920456602314104,21.540193704501704,5.295904599220052,7.5850473673467125,-2.8284933122040066,7.449557284274226,4.8730803473456525,20.46459502068294,17.241559501939168,12.938543591065777,0.04971971193282809,-9.451016748853117,10.640167487960035,9.17094475753478,4.457950113021862,16.79738674763675,11.266015078657107,9.19159812449072,null],[12.505421597471942,11.496403339968753,13.953831456688143,12.315862548451905,8.314870588210736,-1.2793601855167267,8.70226132546064,9.373952641374245,4.95463304401198,20.842554896558166,4.43609934589171,-3.0545564444424365,-3.1029745093964594,9.156428792613777,16.990148558994612,-0.8995233182313429,13.275550049935015,9.075635054069217,3.302534310173767,null],[10.32645069194726,4.038925205142743,13.386131227904652,12.576821775823769,8.185605871590067,6.038191444579548,18.471943744273638,-14.161579265845962,4.589725153550347,14.173683691588923,-12.229450161481317,-8.130399043213899,-1.4213265967476878,6.802331328555193,-8.20632130604501,7.447871609927492,5.9029908908892175,8.676616006266588,null,null],[7.893981144449915,14.299568125968737,15.8016883894312,6.0267335469605054,2.4955835091117247,6.34930977340248,16.575348729480062,8.756611064261795,4.477347796291903,-3.4513495789057766,-23.671277700541353,-15.477348560079449,3.6113610703777628,-6.580801592443719,-24.0329728030728,11.74873837830026,-2.5582101139532787,8.277596958463961,null,null],[null,7.819107884737001,6.725496599535062,13.82949598812812,-9.564744659029648,-0.4111272201921035,-1.181662401509926,-13.510980693013675,-15.719037339396156,12.655884439359212,-3.1474816230008607,-10.706922757132883,9.395516832707505,3.6908225575224725,-10.658613878838274,-14.166934900446321,-11.019411118795793,-1.6686818870191482,null,null],[null,2.524001562905478,5.861287707997855,5.061126493770656,14.038864394187057,8.105028082749971,4.527405665588271,-16.78781396844449,-22.09034076825226,-3.1857678524807254,11.783943711661244,11.13469349650964,6.11051977549665,1.083149930655015,-3.94421991418662,-11.105215575980806,-13.347105960250325,null,null,null],[null,1.5750145394302335,2.670943116783399,4.964585447472,1.9405908335935893,11.322010829062712,-11.439208044941306,-17.0363645703569,-19.658181151691355,-5.015409013991894,10.697432395942634,7.809263842190911,2.7886150955243063,-2.2320336511422925,-7.25268239780889,-12.273331144475506,null,null,null,null],[null,null,null,-1.0908193649351132,-3.147189613555061,-7.245766123111056,-4.874879207171238,-2.503992291231425,-3.5637587901949628,-4.363316406967602,9.504482934538796,4.483834187872189,-0.5368145587944166,null,null,null,null,null,null,null],[null,null,null,null,null,null,null,null,null,null,null,null,null,null,null,null,null,null,null,null]],\"type\":\"contour\"}],                        {\"template\":{\"data\":{\"histogram2dcontour\":[{\"type\":\"histogram2dcontour\",\"colorbar\":{\"outlinewidth\":0,\"ticks\":\"\"},\"colorscale\":[[0.0,\"#0d0887\"],[0.1111111111111111,\"#46039f\"],[0.2222222222222222,\"#7201a8\"],[0.3333333333333333,\"#9c179e\"],[0.4444444444444444,\"#bd3786\"],[0.5555555555555556,\"#d8576b\"],[0.6666666666666666,\"#ed7953\"],[0.7777777777777778,\"#fb9f3a\"],[0.8888888888888888,\"#fdca26\"],[1.0,\"#f0f921\"]]}],\"choropleth\":[{\"type\":\"choropleth\",\"colorbar\":{\"outlinewidth\":0,\"ticks\":\"\"}}],\"histogram2d\":[{\"type\":\"histogram2d\",\"colorbar\":{\"outlinewidth\":0,\"ticks\":\"\"},\"colorscale\":[[0.0,\"#0d0887\"],[0.1111111111111111,\"#46039f\"],[0.2222222222222222,\"#7201a8\"],[0.3333333333333333,\"#9c179e\"],[0.4444444444444444,\"#bd3786\"],[0.5555555555555556,\"#d8576b\"],[0.6666666666666666,\"#ed7953\"],[0.7777777777777778,\"#fb9f3a\"],[0.8888888888888888,\"#fdca26\"],[1.0,\"#f0f921\"]]}],\"heatmap\":[{\"type\":\"heatmap\",\"colorbar\":{\"outlinewidth\":0,\"ticks\":\"\"},\"colorscale\":[[0.0,\"#0d0887\"],[0.1111111111111111,\"#46039f\"],[0.2222222222222222,\"#7201a8\"],[0.3333333333333333,\"#9c179e\"],[0.4444444444444444,\"#bd3786\"],[0.5555555555555556,\"#d8576b\"],[0.6666666666666666,\"#ed7953\"],[0.7777777777777778,\"#fb9f3a\"],[0.8888888888888888,\"#fdca26\"],[1.0,\"#f0f921\"]]}],\"heatmapgl\":[{\"type\":\"heatmapgl\",\"colorbar\":{\"outlinewidth\":0,\"ticks\":\"\"},\"colorscale\":[[0.0,\"#0d0887\"],[0.1111111111111111,\"#46039f\"],[0.2222222222222222,\"#7201a8\"],[0.3333333333333333,\"#9c179e\"],[0.4444444444444444,\"#bd3786\"],[0.5555555555555556,\"#d8576b\"],[0.6666666666666666,\"#ed7953\"],[0.7777777777777778,\"#fb9f3a\"],[0.8888888888888888,\"#fdca26\"],[1.0,\"#f0f921\"]]}],\"contourcarpet\":[{\"type\":\"contourcarpet\",\"colorbar\":{\"outlinewidth\":0,\"ticks\":\"\"}}],\"contour\":[{\"type\":\"contour\",\"colorbar\":{\"outlinewidth\":0,\"ticks\":\"\"},\"colorscale\":[[0.0,\"#0d0887\"],[0.1111111111111111,\"#46039f\"],[0.2222222222222222,\"#7201a8\"],[0.3333333333333333,\"#9c179e\"],[0.4444444444444444,\"#bd3786\"],[0.5555555555555556,\"#d8576b\"],[0.6666666666666666,\"#ed7953\"],[0.7777777777777778,\"#fb9f3a\"],[0.8888888888888888,\"#fdca26\"],[1.0,\"#f0f921\"]]}],\"surface\":[{\"type\":\"surface\",\"colorbar\":{\"outlinewidth\":0,\"ticks\":\"\"},\"colorscale\":[[0.0,\"#0d0887\"],[0.1111111111111111,\"#46039f\"],[0.2222222222222222,\"#7201a8\"],[0.3333333333333333,\"#9c179e\"],[0.4444444444444444,\"#bd3786\"],[0.5555555555555556,\"#d8576b\"],[0.6666666666666666,\"#ed7953\"],[0.7777777777777778,\"#fb9f3a\"],[0.8888888888888888,\"#fdca26\"],[1.0,\"#f0f921\"]]}],\"mesh3d\":[{\"type\":\"mesh3d\",\"colorbar\":{\"outlinewidth\":0,\"ticks\":\"\"}}],\"scatter\":[{\"fillpattern\":{\"fillmode\":\"overlay\",\"size\":10,\"solidity\":0.2},\"type\":\"scatter\"}],\"parcoords\":[{\"type\":\"parcoords\",\"line\":{\"colorbar\":{\"outlinewidth\":0,\"ticks\":\"\"}}}],\"scatterpolargl\":[{\"type\":\"scatterpolargl\",\"marker\":{\"colorbar\":{\"outlinewidth\":0,\"ticks\":\"\"}}}],\"bar\":[{\"error_x\":{\"color\":\"#2a3f5f\"},\"error_y\":{\"color\":\"#2a3f5f\"},\"marker\":{\"line\":{\"color\":\"#E5ECF6\",\"width\":0.5},\"pattern\":{\"fillmode\":\"overlay\",\"size\":10,\"solidity\":0.2}},\"type\":\"bar\"}],\"scattergeo\":[{\"type\":\"scattergeo\",\"marker\":{\"colorbar\":{\"outlinewidth\":0,\"ticks\":\"\"}}}],\"scatterpolar\":[{\"type\":\"scatterpolar\",\"marker\":{\"colorbar\":{\"outlinewidth\":0,\"ticks\":\"\"}}}],\"histogram\":[{\"marker\":{\"pattern\":{\"fillmode\":\"overlay\",\"size\":10,\"solidity\":0.2}},\"type\":\"histogram\"}],\"scattergl\":[{\"type\":\"scattergl\",\"marker\":{\"colorbar\":{\"outlinewidth\":0,\"ticks\":\"\"}}}],\"scatter3d\":[{\"type\":\"scatter3d\",\"line\":{\"colorbar\":{\"outlinewidth\":0,\"ticks\":\"\"}},\"marker\":{\"colorbar\":{\"outlinewidth\":0,\"ticks\":\"\"}}}],\"scattermapbox\":[{\"type\":\"scattermapbox\",\"marker\":{\"colorbar\":{\"outlinewidth\":0,\"ticks\":\"\"}}}],\"scatterternary\":[{\"type\":\"scatterternary\",\"marker\":{\"colorbar\":{\"outlinewidth\":0,\"ticks\":\"\"}}}],\"scattercarpet\":[{\"type\":\"scattercarpet\",\"marker\":{\"colorbar\":{\"outlinewidth\":0,\"ticks\":\"\"}}}],\"carpet\":[{\"aaxis\":{\"endlinecolor\":\"#2a3f5f\",\"gridcolor\":\"white\",\"linecolor\":\"white\",\"minorgridcolor\":\"white\",\"startlinecolor\":\"#2a3f5f\"},\"baxis\":{\"endlinecolor\":\"#2a3f5f\",\"gridcolor\":\"white\",\"linecolor\":\"white\",\"minorgridcolor\":\"white\",\"startlinecolor\":\"#2a3f5f\"},\"type\":\"carpet\"}],\"table\":[{\"cells\":{\"fill\":{\"color\":\"#EBF0F8\"},\"line\":{\"color\":\"white\"}},\"header\":{\"fill\":{\"color\":\"#C8D4E3\"},\"line\":{\"color\":\"white\"}},\"type\":\"table\"}],\"barpolar\":[{\"marker\":{\"line\":{\"color\":\"#E5ECF6\",\"width\":0.5},\"pattern\":{\"fillmode\":\"overlay\",\"size\":10,\"solidity\":0.2}},\"type\":\"barpolar\"}],\"pie\":[{\"automargin\":true,\"type\":\"pie\"}]},\"layout\":{\"autotypenumbers\":\"strict\",\"colorway\":[\"#636efa\",\"#EF553B\",\"#00cc96\",\"#ab63fa\",\"#FFA15A\",\"#19d3f3\",\"#FF6692\",\"#B6E880\",\"#FF97FF\",\"#FECB52\"],\"font\":{\"color\":\"#2a3f5f\"},\"hovermode\":\"closest\",\"hoverlabel\":{\"align\":\"left\"},\"paper_bgcolor\":\"white\",\"plot_bgcolor\":\"#E5ECF6\",\"polar\":{\"bgcolor\":\"#E5ECF6\",\"angularaxis\":{\"gridcolor\":\"white\",\"linecolor\":\"white\",\"ticks\":\"\"},\"radialaxis\":{\"gridcolor\":\"white\",\"linecolor\":\"white\",\"ticks\":\"\"}},\"ternary\":{\"bgcolor\":\"#E5ECF6\",\"aaxis\":{\"gridcolor\":\"white\",\"linecolor\":\"white\",\"ticks\":\"\"},\"baxis\":{\"gridcolor\":\"white\",\"linecolor\":\"white\",\"ticks\":\"\"},\"caxis\":{\"gridcolor\":\"white\",\"linecolor\":\"white\",\"ticks\":\"\"}},\"coloraxis\":{\"colorbar\":{\"outlinewidth\":0,\"ticks\":\"\"}},\"colorscale\":{\"sequential\":[[0.0,\"#0d0887\"],[0.1111111111111111,\"#46039f\"],[0.2222222222222222,\"#7201a8\"],[0.3333333333333333,\"#9c179e\"],[0.4444444444444444,\"#bd3786\"],[0.5555555555555556,\"#d8576b\"],[0.6666666666666666,\"#ed7953\"],[0.7777777777777778,\"#fb9f3a\"],[0.8888888888888888,\"#fdca26\"],[1.0,\"#f0f921\"]],\"sequentialminus\":[[0.0,\"#0d0887\"],[0.1111111111111111,\"#46039f\"],[0.2222222222222222,\"#7201a8\"],[0.3333333333333333,\"#9c179e\"],[0.4444444444444444,\"#bd3786\"],[0.5555555555555556,\"#d8576b\"],[0.6666666666666666,\"#ed7953\"],[0.7777777777777778,\"#fb9f3a\"],[0.8888888888888888,\"#fdca26\"],[1.0,\"#f0f921\"]],\"diverging\":[[0,\"#8e0152\"],[0.1,\"#c51b7d\"],[0.2,\"#de77ae\"],[0.3,\"#f1b6da\"],[0.4,\"#fde0ef\"],[0.5,\"#f7f7f7\"],[0.6,\"#e6f5d0\"],[0.7,\"#b8e186\"],[0.8,\"#7fbc41\"],[0.9,\"#4d9221\"],[1,\"#276419\"]]},\"xaxis\":{\"gridcolor\":\"white\",\"linecolor\":\"white\",\"ticks\":\"\",\"title\":{\"standoff\":15},\"zerolinecolor\":\"white\",\"automargin\":true,\"zerolinewidth\":2},\"yaxis\":{\"gridcolor\":\"white\",\"linecolor\":\"white\",\"ticks\":\"\",\"title\":{\"standoff\":15},\"zerolinecolor\":\"white\",\"automargin\":true,\"zerolinewidth\":2},\"scene\":{\"xaxis\":{\"backgroundcolor\":\"#E5ECF6\",\"gridcolor\":\"white\",\"linecolor\":\"white\",\"showbackground\":true,\"ticks\":\"\",\"zerolinecolor\":\"white\",\"gridwidth\":2},\"yaxis\":{\"backgroundcolor\":\"#E5ECF6\",\"gridcolor\":\"white\",\"linecolor\":\"white\",\"showbackground\":true,\"ticks\":\"\",\"zerolinecolor\":\"white\",\"gridwidth\":2},\"zaxis\":{\"backgroundcolor\":\"#E5ECF6\",\"gridcolor\":\"white\",\"linecolor\":\"white\",\"showbackground\":true,\"ticks\":\"\",\"zerolinecolor\":\"white\",\"gridwidth\":2}},\"shapedefaults\":{\"line\":{\"color\":\"#2a3f5f\"}},\"annotationdefaults\":{\"arrowcolor\":\"#2a3f5f\",\"arrowhead\":0,\"arrowwidth\":1},\"geo\":{\"bgcolor\":\"white\",\"landcolor\":\"#E5ECF6\",\"subunitcolor\":\"white\",\"showland\":true,\"showlakes\":true,\"lakecolor\":\"white\"},\"title\":{\"x\":0.05},\"mapbox\":{\"style\":\"light\"}}},\"xaxis\":{\"title\":{\"text\":\"Longitude\"}},\"yaxis\":{\"title\":{\"text\":\"Latitude\"}},\"title\":{\"text\":\"Average Temperature by Latitude and Longitude\"},\"autosize\":false,\"width\":800,\"height\":500},                        {\"responsive\": true}                    ).then(function(){\n",
       "                            \n",
       "var gd = document.getElementById('dbd505ec-d460-4351-8086-4caa2aa6bf9a');\n",
       "var x = new MutationObserver(function (mutations, observer) {{\n",
       "        var display = window.getComputedStyle(gd).display;\n",
       "        if (!display || display === 'none') {{\n",
       "            console.log([gd, 'removed!']);\n",
       "            Plotly.purge(gd);\n",
       "            observer.disconnect();\n",
       "        }}\n",
       "}});\n",
       "\n",
       "// Listen for the removal of the full notebook cells\n",
       "var notebookContainer = gd.closest('#notebook-container');\n",
       "if (notebookContainer) {{\n",
       "    x.observe(notebookContainer, {childList: true});\n",
       "}}\n",
       "\n",
       "// Listen for the clearing of the current output cell\n",
       "var outputEl = gd.closest('.output');\n",
       "if (outputEl) {{\n",
       "    x.observe(outputEl, {childList: true});\n",
       "}}\n",
       "\n",
       "                        })                };                });            </script>        </div>"
      ]
     },
     "metadata": {},
     "output_type": "display_data"
    }
   ],
   "source": [
    "# Creating the figure\n",
    "fig = go.Figure(data =\n",
    "    go.Contour(\n",
    "        z=Z,\n",
    "        x=xv,\n",
    "        y=yv,\n",
    "        connectgaps=True,\n",
    "        colorscale=\"spectral_r\",\n",
    "        line_smoothing=1,\n",
    "        line_width=0.25,\n",
    "        colorbar=dict(\n",
    "            thickness=35,\n",
    "            len=0.8,\n",
    "            title=\"Temperature (ºC)\",\n",
    "            titlefont=dict(\n",
    "                size=12))))\n",
    "\n",
    "# Adding text to axes\n",
    "fig.update_xaxes(title_text=\"Longitude\")\n",
    "fig.update_yaxes(title_text=\"Latitude\")\n",
    "\n",
    "# Adding a title, resizing, etc.\n",
    "fig.update_layout(\n",
    "    title=\"Average Temperature by Latitude and Longitude\",\n",
    "    autosize=False,\n",
    "    width=800,\n",
    "    height=500\n",
    ")\n",
    "\n",
    "fig.show()"
   ]
  }
 ],
 "metadata": {
  "kernelspec": {
   "display_name": "Python 3 (ipykernel)",
   "language": "python",
   "name": "python3"
  },
  "language_info": {
   "codemirror_mode": {
    "name": "ipython",
    "version": 3
   },
   "file_extension": ".py",
   "mimetype": "text/x-python",
   "name": "python",
   "nbconvert_exporter": "python",
   "pygments_lexer": "ipython3",
   "version": "3.11.3"
  }
 },
 "nbformat": 4,
 "nbformat_minor": 5
}
